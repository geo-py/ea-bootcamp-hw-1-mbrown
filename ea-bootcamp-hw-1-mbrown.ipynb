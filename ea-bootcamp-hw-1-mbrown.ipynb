{
 "cells": [
  {
   "cell_type": "markdown",
   "metadata": {},
   "source": [
    "## Earth Analytics Bootcamp - Homework 1"
   ]
  },
  {
   "cell_type": "markdown",
   "metadata": {},
   "source": [
    "* Author: Mark Brown\n",
    "* Date: 07/12/2018"
   ]
  },
  {
   "cell_type": "markdown",
   "metadata": {},
   "source": [
    "1. Open reproducible science gives researchers the capabilities to repeat experiments by making the code open and accessible. This means that experiments can be repeated in order confirm the viability of the findings.\n",
    "2. Git/Git hub supports open reproducible science as it gives reseachers the capability to share code on an openly accessible platform. Being able to clone and fork code without making changes to the base code means that the code can be openly shared and examined by other researchers. Suggestions on how the code could be improved could also be made by other researchers. "
   ]
  },
  {
   "cell_type": "code",
   "execution_count": 1,
   "metadata": {},
   "outputs": [
    {
     "name": "stdout",
     "output_type": "stream",
     "text": [
      "Packages imported successfully\n"
     ]
    }
   ],
   "source": [
    "# Import key python packages\n",
    "\n",
    "import os\n",
    "import matplotlib.pyplot as plt\n",
    "\n",
    "print(\"Packages imported successfully\")"
   ]
  },
  {
   "cell_type": "code",
   "execution_count": 11,
   "metadata": {},
   "outputs": [
    {
     "name": "stdout",
     "output_type": "stream",
     "text": [
      "C:\\Users\\markb\\earth-analytics-bootcamp\\ea-bootcamp-hw-1-mbrown\n"
     ]
    }
   ],
   "source": [
    "# Print current working directory\n",
    "\n",
    "print(os.getcwd())"
   ]
  },
  {
   "cell_type": "code",
   "execution_count": 12,
   "metadata": {},
   "outputs": [
    {
     "name": "stdout",
     "output_type": "stream",
     "text": [
      "33.8\n"
     ]
    }
   ],
   "source": [
    "# Create variables for monthly average temperature (Fahrenheit) for January though December\n",
    "\n",
    "Jan = 32.0\n",
    "Feb = 35.6\n",
    "Mar = 41.0\n",
    "Apr = 49.2\n",
    "May = 57.9\n",
    "June = 67.2\n",
    "July = 73.0\n",
    "Aug = 71.1\n",
    "Sept = 62.1\n",
    "Oct = 52.9\n",
    "Nov = 40.8\n",
    "Dec = 33.8\n",
    "\n",
    "print(Dec)"
   ]
  },
  {
   "cell_type": "code",
   "execution_count": 14,
   "metadata": {},
   "outputs": [
    {
     "name": "stdout",
     "output_type": "stream",
     "text": [
      "0.9999999999999984\n"
     ]
    }
   ],
   "source": [
    "# Convert montly average temperature variables from Fahrentheit to Celcius using the following equation: Celsius = (Fahrenheit - 32) / 1.8\n",
    "\n",
    "Jan = (32.0 - 32) / 1.8\n",
    "Feb = (35.6 - 32) / 1.8\n",
    "Mar = (41.0 - 32) / 1.8\n",
    "Apr = (49.2 - 32) / 1.8\n",
    "May = (57.9 - 32) / 1.8\n",
    "June = (67.2 - 32) / 1.8\n",
    "July = (73.0 - 32) / 1.8\n",
    "Aug = (71.1 - 32) / 1.8\n",
    "Sept = (62.1 - 32) / 1.8\n",
    "Oct = (52.9 - 32) / 1.8\n",
    "Nov = (40.8 - 32) / 1.8\n",
    "Dec = (33.8 - 32) / 1.8\n",
    "\n",
    "print(Dec)"
   ]
  },
  {
   "cell_type": "code",
   "execution_count": 18,
   "metadata": {},
   "outputs": [
    {
     "name": "stdout",
     "output_type": "stream",
     "text": [
      "[0.0, 2.000000000000001, 5.0, 9.555555555555557, 14.388888888888888, 19.555555555555557, 22.77777777777778, 21.722222222222218, 16.72222222222222, 11.61111111111111, 4.8888888888888875, 0.9999999999999984]\n",
      "['January', 'February', 'March', 'April', 'May', 'June', 'July', 'August', 'September', 'October', 'November', 'December']\n"
     ]
    }
   ],
   "source": [
    "# Create python list of Monthly temperature variables\n",
    "\n",
    "temp = [Jan, Feb, Mar, Apr, May, June, July, Aug, Sept, Oct, Nov, Dec]\n",
    "\n",
    "# Print the the temperature list\n",
    "\n",
    "print(temp)\n",
    "\n",
    "# Create python list of months as string\n",
    "\n",
    "month = [\"January\", \"February\", \"March\", \"April\", \"May\", \"June\", \"July\", \"August\", \"September\", \"October\", \"November\", \"December\"]\n",
    "\n",
    "# Print the month name list\n",
    "\n",
    "print(month)"
   ]
  },
  {
   "cell_type": "code",
   "execution_count": 19,
   "metadata": {},
   "outputs": [
    {
     "data": {
      "image/png": "[encoded data removed]",
      "text/plain": [
       "<Figure size 576x576 with 1 Axes>"
      ]
     },
     "metadata": {
      "needs_background": "light"
     },
     "output_type": "display_data"
    }
   ],
   "source": [
    "# set plot size for all plots that follow\n",
    "plt.rcParams[\"figure.figsize\"] = (8, 8)\n",
    "\n",
    "# set plot title size for all plots that follow\n",
    "plt.rcParams['axes.titlesize'] = 20\n",
    "\n",
    "# create the plot space upon which to plot the data\n",
    "fig, ax = plt.subplots()\n",
    "\n",
    "# add the x-axis and the y-axis to the plot. Colour is red.\n",
    "ax.bar(month, temp, color = \"red\")\n",
    "\n",
    "# rotate the x-axis markers to make Month names more aesthetic\n",
    "plt.setp(ax.get_xticklabels(), rotation=45)\n",
    "\n",
    "#set plot title\n",
    "ax.set(title=\"Average Monthly Temperature in Boulder, CO\")\n",
    "\n",
    "# add labels to the axes\n",
    "ax.set(xlabel=\"Month\", ylabel=\"Temperature (Celsius)\");\n",
    "\n",
    "\n"
   ]
  },
  {
   "cell_type": "markdown",
   "metadata": {},
   "source": [
    "### Discuss Plot\n",
    "\n",
    "**1 Which months have the lowest and the highest temperatures? How much of a difference is there between the lowest and highest temperatures?**\n",
    "\n",
    "The month with the lowest average temperature is January. The month with the highest average temperature is July. The is a 22.7 degree celsius average temperature difference between January and July.\n",
    "\n",
    "**2 Given that Boulder, CO is in the Northern Hemisphere, are these results surprising? How might the results look different if you were plotting data from a location in the Southern Hemisphere?**\n",
    "\n",
    "No the results aren't suprising. I would would expect the temperature to be the opposite in the Southern Hemisphere.\n",
    "\n",
    "**3 Given the Boulder, CO is at a moderately high latitude (~40 degrees North), are these results surprising? How might the results look different if you were plotting data from a location closer to the equator? (Hint: think about the difference between the lowest and highest temperatures)**\n",
    "\n",
    "No the results are not suprising. If I was plotting data from a location closer to the equator I would expect the temperatures to be more consistantly high with a smaller average temperature difference between Summer and Winter months."
   ]
  },
  {
   "cell_type": "code",
   "execution_count": null,
   "metadata": {},
   "outputs": [],
   "source": []
  }
 ],
 "metadata": {
  "kernelspec": {
   "display_name": "Python 3",
   "language": "python",
   "name": "python3"
  },
  "language_info": {
   "codemirror_mode": {
    "name": "ipython",
    "version": 3
   },
   "file_extension": ".py",
   "mimetype": "text/x-python",
   "name": "python",
   "nbconvert_exporter": "python",
   "pygments_lexer": "ipython3",
   "version": "3.7.0"
  }
 },
 "nbformat": 4,
 "nbformat_minor": 2
}
